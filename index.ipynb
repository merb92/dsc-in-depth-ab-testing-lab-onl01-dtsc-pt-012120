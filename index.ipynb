{
 "cells": [
  {
   "cell_type": "markdown",
   "metadata": {},
   "source": [
    "# In Depth A/B Testing - Lab\n",
    "\n",
    "## Introduction\n",
    "\n",
    "In this lab, you'll explore a survey from Kaggle regarding budding data scientists. With this, you'll form some initial hypotheses, and test them using the tools you've acquired to date. \n",
    "\n",
    "## Objectives\n",
    "\n",
    "You will be able to:\n",
    "* Conduct t-tests and an ANOVA on a real-world dataset and interpret the results"
   ]
  },
  {
   "cell_type": "markdown",
   "metadata": {},
   "source": [
    "## Load the Dataset and Perform a Brief Exploration\n",
    "\n",
    "The data is stored in a file called **multipleChoiceResponses_cleaned.csv**. Feel free to check out the original dataset referenced at the bottom of this lab, although this cleaned version will undoubtedly be easier to work with. Additionally, meta-data regarding the questions is stored in a file name **schema.csv**. Load in the data itself as a Pandas DataFrame, and take a moment to briefly get acquainted with it.\n",
    "\n",
    "> Note: If you can't get the file to load properly, try changing the encoding format as in `encoding='latin1'`"
   ]
  },
  {
   "cell_type": "code",
   "execution_count": 1,
   "metadata": {
    "ExecuteTime": {
     "end_time": "2020-04-01T18:28:42.131772Z",
     "start_time": "2020-04-01T18:28:41.117848Z"
    }
   },
   "outputs": [],
   "source": [
    "import pandas as pd\n",
    "%run 'flatiron_stats.py'"
   ]
  },
  {
   "cell_type": "code",
   "execution_count": 2,
   "metadata": {
    "ExecuteTime": {
     "end_time": "2020-04-01T18:28:43.576870Z",
     "start_time": "2020-04-01T18:28:42.134131Z"
    }
   },
   "outputs": [
    {
     "name": "stderr",
     "output_type": "stream",
     "text": [
      "/Users/freethrall/anaconda3/envs/learn-env/lib/python3.6/site-packages/IPython/core/interactiveshell.py:3058: DtypeWarning: Columns (1,2,3,4,5,6,7,8,9,10,11,12,13,14,15,16,17,18,19,20,21,22,23,24,25,26,27,28,29,30,31,32,33,34,35,36,37,38,39,40,41,42,43,44,45,46,47,48,49,50,51,52,53,54,55,56,57,58,65,66,67,68,69,70,71,72,73,74,75,76,77,78,79,80,81,82,83,84,85,86,87,88,89,90,91,92,93,94,95,96,97,98,99,100,101,102,103,104,105,106,107,108,109,110,111,112,113,114,115,116,117,118,119,120,121,122,123,124,125,126,127,128,129,130,131,132,133,134,135,136,137,138,139,140,141,142,143,144,145,146,147,148,149,150,151,152,153,154,155,156,157,158,159,160,161,162,163,164,165,172,173,174,175,176,177,178,179,180,181,182,183,184,185,186,187,188,189,190,191,192,193,194,195,196,197,198,199,200,201,202,203,204,205,207,208,209,210,211,212,213,214,215,216,217,218,219,220,221,222,223,224,225,226,227) have mixed types. Specify dtype option on import or set low_memory=False.\n",
      "  interactivity=interactivity, compiler=compiler, result=result)\n"
     ]
    },
    {
     "data": {
      "text/html": [
       "<div>\n",
       "<style scoped>\n",
       "    .dataframe tbody tr th:only-of-type {\n",
       "        vertical-align: middle;\n",
       "    }\n",
       "\n",
       "    .dataframe tbody tr th {\n",
       "        vertical-align: top;\n",
       "    }\n",
       "\n",
       "    .dataframe thead th {\n",
       "        text-align: right;\n",
       "    }\n",
       "</style>\n",
       "<table border=\"1\" class=\"dataframe\">\n",
       "  <thead>\n",
       "    <tr style=\"text-align: right;\">\n",
       "      <th></th>\n",
       "      <th>GenderSelect</th>\n",
       "      <th>Country</th>\n",
       "      <th>Age</th>\n",
       "      <th>EmploymentStatus</th>\n",
       "      <th>StudentStatus</th>\n",
       "      <th>LearningDataScience</th>\n",
       "      <th>CodeWriter</th>\n",
       "      <th>CareerSwitcher</th>\n",
       "      <th>CurrentJobTitleSelect</th>\n",
       "      <th>TitleFit</th>\n",
       "      <th>...</th>\n",
       "      <th>JobFactorTitle</th>\n",
       "      <th>JobFactorCompanyFunding</th>\n",
       "      <th>JobFactorImpact</th>\n",
       "      <th>JobFactorRemote</th>\n",
       "      <th>JobFactorIndustry</th>\n",
       "      <th>JobFactorLeaderReputation</th>\n",
       "      <th>JobFactorDiversity</th>\n",
       "      <th>JobFactorPublishingOpportunity</th>\n",
       "      <th>exchangeRate</th>\n",
       "      <th>AdjustedCompensation</th>\n",
       "    </tr>\n",
       "  </thead>\n",
       "  <tbody>\n",
       "    <tr>\n",
       "      <td>0</td>\n",
       "      <td>Non-binary, genderqueer, or gender non-conforming</td>\n",
       "      <td>NaN</td>\n",
       "      <td>NaN</td>\n",
       "      <td>Employed full-time</td>\n",
       "      <td>NaN</td>\n",
       "      <td>NaN</td>\n",
       "      <td>Yes</td>\n",
       "      <td>NaN</td>\n",
       "      <td>DBA/Database Engineer</td>\n",
       "      <td>Fine</td>\n",
       "      <td>...</td>\n",
       "      <td>NaN</td>\n",
       "      <td>NaN</td>\n",
       "      <td>NaN</td>\n",
       "      <td>NaN</td>\n",
       "      <td>NaN</td>\n",
       "      <td>NaN</td>\n",
       "      <td>NaN</td>\n",
       "      <td>NaN</td>\n",
       "      <td>NaN</td>\n",
       "      <td>NaN</td>\n",
       "    </tr>\n",
       "    <tr>\n",
       "      <td>1</td>\n",
       "      <td>Female</td>\n",
       "      <td>United States</td>\n",
       "      <td>30.0</td>\n",
       "      <td>Not employed, but looking for work</td>\n",
       "      <td>NaN</td>\n",
       "      <td>NaN</td>\n",
       "      <td>NaN</td>\n",
       "      <td>NaN</td>\n",
       "      <td>NaN</td>\n",
       "      <td>NaN</td>\n",
       "      <td>...</td>\n",
       "      <td>NaN</td>\n",
       "      <td>NaN</td>\n",
       "      <td>NaN</td>\n",
       "      <td>NaN</td>\n",
       "      <td>NaN</td>\n",
       "      <td>Somewhat important</td>\n",
       "      <td>NaN</td>\n",
       "      <td>NaN</td>\n",
       "      <td>NaN</td>\n",
       "      <td>NaN</td>\n",
       "    </tr>\n",
       "    <tr>\n",
       "      <td>2</td>\n",
       "      <td>Male</td>\n",
       "      <td>Canada</td>\n",
       "      <td>28.0</td>\n",
       "      <td>Not employed, but looking for work</td>\n",
       "      <td>NaN</td>\n",
       "      <td>NaN</td>\n",
       "      <td>NaN</td>\n",
       "      <td>NaN</td>\n",
       "      <td>NaN</td>\n",
       "      <td>NaN</td>\n",
       "      <td>...</td>\n",
       "      <td>Very Important</td>\n",
       "      <td>Very Important</td>\n",
       "      <td>Very Important</td>\n",
       "      <td>Very Important</td>\n",
       "      <td>Very Important</td>\n",
       "      <td>Very Important</td>\n",
       "      <td>Very Important</td>\n",
       "      <td>Very Important</td>\n",
       "      <td>NaN</td>\n",
       "      <td>NaN</td>\n",
       "    </tr>\n",
       "    <tr>\n",
       "      <td>3</td>\n",
       "      <td>Male</td>\n",
       "      <td>United States</td>\n",
       "      <td>56.0</td>\n",
       "      <td>Independent contractor, freelancer, or self-em...</td>\n",
       "      <td>NaN</td>\n",
       "      <td>NaN</td>\n",
       "      <td>Yes</td>\n",
       "      <td>NaN</td>\n",
       "      <td>Operations Research Practitioner</td>\n",
       "      <td>Poorly</td>\n",
       "      <td>...</td>\n",
       "      <td>NaN</td>\n",
       "      <td>NaN</td>\n",
       "      <td>NaN</td>\n",
       "      <td>NaN</td>\n",
       "      <td>NaN</td>\n",
       "      <td>NaN</td>\n",
       "      <td>NaN</td>\n",
       "      <td>NaN</td>\n",
       "      <td>1.000000</td>\n",
       "      <td>250000.0</td>\n",
       "    </tr>\n",
       "    <tr>\n",
       "      <td>4</td>\n",
       "      <td>Male</td>\n",
       "      <td>Taiwan</td>\n",
       "      <td>38.0</td>\n",
       "      <td>Employed full-time</td>\n",
       "      <td>NaN</td>\n",
       "      <td>NaN</td>\n",
       "      <td>Yes</td>\n",
       "      <td>NaN</td>\n",
       "      <td>Computer Scientist</td>\n",
       "      <td>Fine</td>\n",
       "      <td>...</td>\n",
       "      <td>NaN</td>\n",
       "      <td>NaN</td>\n",
       "      <td>NaN</td>\n",
       "      <td>NaN</td>\n",
       "      <td>NaN</td>\n",
       "      <td>NaN</td>\n",
       "      <td>NaN</td>\n",
       "      <td>NaN</td>\n",
       "      <td>NaN</td>\n",
       "      <td>NaN</td>\n",
       "    </tr>\n",
       "    <tr>\n",
       "      <td>...</td>\n",
       "      <td>...</td>\n",
       "      <td>...</td>\n",
       "      <td>...</td>\n",
       "      <td>...</td>\n",
       "      <td>...</td>\n",
       "      <td>...</td>\n",
       "      <td>...</td>\n",
       "      <td>...</td>\n",
       "      <td>...</td>\n",
       "      <td>...</td>\n",
       "      <td>...</td>\n",
       "      <td>...</td>\n",
       "      <td>...</td>\n",
       "      <td>...</td>\n",
       "      <td>...</td>\n",
       "      <td>...</td>\n",
       "      <td>...</td>\n",
       "      <td>...</td>\n",
       "      <td>...</td>\n",
       "      <td>...</td>\n",
       "      <td>...</td>\n",
       "    </tr>\n",
       "    <tr>\n",
       "      <td>26389</td>\n",
       "      <td>Female</td>\n",
       "      <td>Other</td>\n",
       "      <td>24.0</td>\n",
       "      <td>Not employed, but looking for work</td>\n",
       "      <td>NaN</td>\n",
       "      <td>NaN</td>\n",
       "      <td>NaN</td>\n",
       "      <td>NaN</td>\n",
       "      <td>NaN</td>\n",
       "      <td>NaN</td>\n",
       "      <td>...</td>\n",
       "      <td>NaN</td>\n",
       "      <td>NaN</td>\n",
       "      <td>NaN</td>\n",
       "      <td>NaN</td>\n",
       "      <td>NaN</td>\n",
       "      <td>NaN</td>\n",
       "      <td>NaN</td>\n",
       "      <td>NaN</td>\n",
       "      <td>NaN</td>\n",
       "      <td>NaN</td>\n",
       "    </tr>\n",
       "    <tr>\n",
       "      <td>26390</td>\n",
       "      <td>Male</td>\n",
       "      <td>Indonesia</td>\n",
       "      <td>25.0</td>\n",
       "      <td>Employed full-time</td>\n",
       "      <td>NaN</td>\n",
       "      <td>NaN</td>\n",
       "      <td>Yes</td>\n",
       "      <td>NaN</td>\n",
       "      <td>Programmer</td>\n",
       "      <td>Fine</td>\n",
       "      <td>...</td>\n",
       "      <td>NaN</td>\n",
       "      <td>NaN</td>\n",
       "      <td>NaN</td>\n",
       "      <td>NaN</td>\n",
       "      <td>NaN</td>\n",
       "      <td>NaN</td>\n",
       "      <td>NaN</td>\n",
       "      <td>NaN</td>\n",
       "      <td>0.000076</td>\n",
       "      <td>NaN</td>\n",
       "    </tr>\n",
       "    <tr>\n",
       "      <td>26391</td>\n",
       "      <td>Female</td>\n",
       "      <td>Taiwan</td>\n",
       "      <td>25.0</td>\n",
       "      <td>Employed part-time</td>\n",
       "      <td>NaN</td>\n",
       "      <td>NaN</td>\n",
       "      <td>No</td>\n",
       "      <td>Yes</td>\n",
       "      <td>NaN</td>\n",
       "      <td>NaN</td>\n",
       "      <td>...</td>\n",
       "      <td>NaN</td>\n",
       "      <td>NaN</td>\n",
       "      <td>NaN</td>\n",
       "      <td>NaN</td>\n",
       "      <td>NaN</td>\n",
       "      <td>NaN</td>\n",
       "      <td>NaN</td>\n",
       "      <td>NaN</td>\n",
       "      <td>NaN</td>\n",
       "      <td>NaN</td>\n",
       "    </tr>\n",
       "    <tr>\n",
       "      <td>26392</td>\n",
       "      <td>Female</td>\n",
       "      <td>Singapore</td>\n",
       "      <td>16.0</td>\n",
       "      <td>I prefer not to say</td>\n",
       "      <td>Yes</td>\n",
       "      <td>Yes, but data science is a small part of what ...</td>\n",
       "      <td>NaN</td>\n",
       "      <td>NaN</td>\n",
       "      <td>NaN</td>\n",
       "      <td>NaN</td>\n",
       "      <td>...</td>\n",
       "      <td>NaN</td>\n",
       "      <td>NaN</td>\n",
       "      <td>NaN</td>\n",
       "      <td>NaN</td>\n",
       "      <td>NaN</td>\n",
       "      <td>NaN</td>\n",
       "      <td>NaN</td>\n",
       "      <td>NaN</td>\n",
       "      <td>NaN</td>\n",
       "      <td>NaN</td>\n",
       "    </tr>\n",
       "    <tr>\n",
       "      <td>26393</td>\n",
       "      <td>Male</td>\n",
       "      <td>Japan</td>\n",
       "      <td>27.0</td>\n",
       "      <td>Employed full-time</td>\n",
       "      <td>NaN</td>\n",
       "      <td>NaN</td>\n",
       "      <td>No</td>\n",
       "      <td>Yes</td>\n",
       "      <td>Programmer</td>\n",
       "      <td>Fine</td>\n",
       "      <td>...</td>\n",
       "      <td>NaN</td>\n",
       "      <td>NaN</td>\n",
       "      <td>NaN</td>\n",
       "      <td>NaN</td>\n",
       "      <td>NaN</td>\n",
       "      <td>NaN</td>\n",
       "      <td>NaN</td>\n",
       "      <td>NaN</td>\n",
       "      <td>NaN</td>\n",
       "      <td>NaN</td>\n",
       "    </tr>\n",
       "  </tbody>\n",
       "</table>\n",
       "<p>26394 rows × 230 columns</p>\n",
       "</div>"
      ],
      "text/plain": [
       "                                            GenderSelect        Country   Age  \\\n",
       "0      Non-binary, genderqueer, or gender non-conforming            NaN   NaN   \n",
       "1                                                 Female  United States  30.0   \n",
       "2                                                   Male         Canada  28.0   \n",
       "3                                                   Male  United States  56.0   \n",
       "4                                                   Male         Taiwan  38.0   \n",
       "...                                                  ...            ...   ...   \n",
       "26389                                             Female          Other  24.0   \n",
       "26390                                               Male      Indonesia  25.0   \n",
       "26391                                             Female         Taiwan  25.0   \n",
       "26392                                             Female      Singapore  16.0   \n",
       "26393                                               Male          Japan  27.0   \n",
       "\n",
       "                                        EmploymentStatus StudentStatus  \\\n",
       "0                                     Employed full-time           NaN   \n",
       "1                     Not employed, but looking for work           NaN   \n",
       "2                     Not employed, but looking for work           NaN   \n",
       "3      Independent contractor, freelancer, or self-em...           NaN   \n",
       "4                                     Employed full-time           NaN   \n",
       "...                                                  ...           ...   \n",
       "26389                 Not employed, but looking for work           NaN   \n",
       "26390                                 Employed full-time           NaN   \n",
       "26391                                 Employed part-time           NaN   \n",
       "26392                                I prefer not to say           Yes   \n",
       "26393                                 Employed full-time           NaN   \n",
       "\n",
       "                                     LearningDataScience CodeWriter  \\\n",
       "0                                                    NaN        Yes   \n",
       "1                                                    NaN        NaN   \n",
       "2                                                    NaN        NaN   \n",
       "3                                                    NaN        Yes   \n",
       "4                                                    NaN        Yes   \n",
       "...                                                  ...        ...   \n",
       "26389                                                NaN        NaN   \n",
       "26390                                                NaN        Yes   \n",
       "26391                                                NaN         No   \n",
       "26392  Yes, but data science is a small part of what ...        NaN   \n",
       "26393                                                NaN         No   \n",
       "\n",
       "      CareerSwitcher             CurrentJobTitleSelect TitleFit  ...  \\\n",
       "0                NaN             DBA/Database Engineer     Fine  ...   \n",
       "1                NaN                               NaN      NaN  ...   \n",
       "2                NaN                               NaN      NaN  ...   \n",
       "3                NaN  Operations Research Practitioner   Poorly  ...   \n",
       "4                NaN                Computer Scientist     Fine  ...   \n",
       "...              ...                               ...      ...  ...   \n",
       "26389            NaN                               NaN      NaN  ...   \n",
       "26390            NaN                        Programmer     Fine  ...   \n",
       "26391            Yes                               NaN      NaN  ...   \n",
       "26392            NaN                               NaN      NaN  ...   \n",
       "26393            Yes                        Programmer     Fine  ...   \n",
       "\n",
       "       JobFactorTitle JobFactorCompanyFunding JobFactorImpact JobFactorRemote  \\\n",
       "0                 NaN                     NaN             NaN             NaN   \n",
       "1                 NaN                     NaN             NaN             NaN   \n",
       "2      Very Important          Very Important  Very Important  Very Important   \n",
       "3                 NaN                     NaN             NaN             NaN   \n",
       "4                 NaN                     NaN             NaN             NaN   \n",
       "...               ...                     ...             ...             ...   \n",
       "26389             NaN                     NaN             NaN             NaN   \n",
       "26390             NaN                     NaN             NaN             NaN   \n",
       "26391             NaN                     NaN             NaN             NaN   \n",
       "26392             NaN                     NaN             NaN             NaN   \n",
       "26393             NaN                     NaN             NaN             NaN   \n",
       "\n",
       "      JobFactorIndustry JobFactorLeaderReputation JobFactorDiversity  \\\n",
       "0                   NaN                       NaN                NaN   \n",
       "1                   NaN        Somewhat important                NaN   \n",
       "2        Very Important            Very Important     Very Important   \n",
       "3                   NaN                       NaN                NaN   \n",
       "4                   NaN                       NaN                NaN   \n",
       "...                 ...                       ...                ...   \n",
       "26389               NaN                       NaN                NaN   \n",
       "26390               NaN                       NaN                NaN   \n",
       "26391               NaN                       NaN                NaN   \n",
       "26392               NaN                       NaN                NaN   \n",
       "26393               NaN                       NaN                NaN   \n",
       "\n",
       "      JobFactorPublishingOpportunity exchangeRate AdjustedCompensation  \n",
       "0                                NaN          NaN                  NaN  \n",
       "1                                NaN          NaN                  NaN  \n",
       "2                     Very Important          NaN                  NaN  \n",
       "3                                NaN     1.000000             250000.0  \n",
       "4                                NaN          NaN                  NaN  \n",
       "...                              ...          ...                  ...  \n",
       "26389                            NaN          NaN                  NaN  \n",
       "26390                            NaN     0.000076                  NaN  \n",
       "26391                            NaN          NaN                  NaN  \n",
       "26392                            NaN          NaN                  NaN  \n",
       "26393                            NaN          NaN                  NaN  \n",
       "\n",
       "[26394 rows x 230 columns]"
      ]
     },
     "execution_count": 2,
     "metadata": {},
     "output_type": "execute_result"
    }
   ],
   "source": [
    "df = pd.read_csv('multipleChoiceResponses_cleaned.csv', encoding='latin1')\n",
    "df"
   ]
  },
  {
   "cell_type": "markdown",
   "metadata": {},
   "source": [
    "## Wages and Education\n",
    "\n",
    "You've been asked to determine whether education is impactful to salary. Develop a hypothesis test to compare the salaries of those with Master's degrees to those with Bachelor's degrees. Are the two statistically different according to your results?\n",
    "\n",
    "> Note: The relevant features are stored in the 'FormalEducation' and 'AdjustedCompensation' features.\n",
    "\n",
    "You may import the functions stored in the `flatiron_stats.py` file to help perform your hypothesis tests. It contains the stats functions that you previously coded: `welch_t(a,b)`, `welch_df(a, b)`, and `p_value(a, b, two_sided=False)`. \n",
    "\n",
    "Note that `scipy.stats.ttest_ind(a, b, equal_var=False)` performs a two-sided Welch's t-test and that p-values derived from two-sided tests are two times the p-values derived from one-sided tests. See the [documentation](https://docs.scipy.org/doc/scipy/reference/generated/scipy.stats.ttest_ind.html) for more information.    "
   ]
  },
  {
   "cell_type": "code",
   "execution_count": 3,
   "metadata": {
    "ExecuteTime": {
     "end_time": "2020-04-01T18:28:43.582694Z",
     "start_time": "2020-04-01T18:28:43.579823Z"
    }
   },
   "outputs": [],
   "source": [
    "# H0: Education is not impactful to salary. People with Master's degrees make the same\n",
    "# salary as those with Bachelor's degrees\n",
    "\n",
    "# HA: Education is impactful to salary: People with Master's degrees have a higher salary\n",
    "# than those with a Bachelor's degree"
   ]
  },
  {
   "cell_type": "code",
   "execution_count": 4,
   "metadata": {
    "ExecuteTime": {
     "end_time": "2020-04-01T18:28:43.592733Z",
     "start_time": "2020-04-01T18:28:43.585369Z"
    }
   },
   "outputs": [
    {
     "data": {
      "text/plain": [
       "array([\"Bachelor's degree\", \"Master's degree\", 'Doctoral degree', nan,\n",
       "       \"Some college/university study without earning a bachelor's degree\",\n",
       "       'I did not complete any formal education past high school',\n",
       "       'Professional degree', 'I prefer not to answer'], dtype=object)"
      ]
     },
     "execution_count": 4,
     "metadata": {},
     "output_type": "execute_result"
    }
   ],
   "source": [
    "df.FormalEducation.unique()"
   ]
  },
  {
   "cell_type": "code",
   "execution_count": 5,
   "metadata": {
    "ExecuteTime": {
     "end_time": "2020-04-01T18:28:43.636991Z",
     "start_time": "2020-04-01T18:28:43.595031Z"
    }
   },
   "outputs": [
    {
     "data": {
      "text/plain": [
       "3        250000.000\n",
       "14        36634.400\n",
       "27        53352.000\n",
       "31        35419.104\n",
       "37        80000.000\n",
       "            ...    \n",
       "26148     54670.000\n",
       "26159         1.000\n",
       "26180     65770.430\n",
       "26255     89686.950\n",
       "26378     10000.000\n",
       "Name: AdjustedCompensation, Length: 1990, dtype: float64"
      ]
     },
     "execution_count": 5,
     "metadata": {},
     "output_type": "execute_result"
    }
   ],
   "source": [
    "# relevent columns --> AdjustedCompensation, FormalEducation\n",
    "masters_df = df[df.FormalEducation == \"Master's degree\"]['AdjustedCompensation']\n",
    "clean_masters_df = masters_df.dropna()\n",
    "clean_masters_df"
   ]
  },
  {
   "cell_type": "code",
   "execution_count": 6,
   "metadata": {
    "ExecuteTime": {
     "end_time": "2020-04-01T18:28:43.669835Z",
     "start_time": "2020-04-01T18:28:43.639032Z"
    }
   },
   "outputs": [
    {
     "data": {
      "text/plain": [
       "8         64184.800\n",
       "9         20882.400\n",
       "11         1483.900\n",
       "21        20000.000\n",
       "25        10858.848\n",
       "            ...    \n",
       "26031     39050.000\n",
       "26072     31878.000\n",
       "26101      3336.000\n",
       "26185     50000.000\n",
       "26195    100449.384\n",
       "Name: AdjustedCompensation, Length: 1107, dtype: float64"
      ]
     },
     "execution_count": 6,
     "metadata": {},
     "output_type": "execute_result"
    }
   ],
   "source": [
    "bachelors_df = df[df.FormalEducation == \"Bachelor's degree\"]['AdjustedCompensation']\n",
    "clean_bachelors_df = bachelors_df.dropna()\n",
    "clean_bachelors_df"
   ]
  },
  {
   "cell_type": "code",
   "execution_count": 7,
   "metadata": {
    "ExecuteTime": {
     "end_time": "2020-04-01T18:28:43.680320Z",
     "start_time": "2020-04-01T18:28:43.672013Z"
    }
   },
   "outputs": [
    {
     "name": "stdout",
     "output_type": "stream",
     "text": [
      "Given that our calculated p-value is 0.331, which is greater than our alpha of 0.05\n",
      "We cannot reject the Null Hypothesis and cannot show that education has a positive impact\n",
      "on salary\n"
     ]
    }
   ],
   "source": [
    "p = p_value_welch_ttest(clean_bachelors_df, clean_masters_df, two_sided=False)\n",
    "print(f'Given that our calculated p-value is {round(p,3)}, which is greater than our alpha of 0.05')\n",
    "print(f'We cannot reject the Null Hypothesis and cannot show that education has a positive impact')\n",
    "print('on salary')"
   ]
  },
  {
   "cell_type": "markdown",
   "metadata": {},
   "source": [
    "## Wages and Education II\n",
    "\n",
    "Now perform a similar statistical test comparing the AdjustedCompensation of those with Bachelor's degrees and those with Doctorates. If you haven't already, be sure to explore the distribution of the AdjustedCompensation feature for any anomalies. "
   ]
  },
  {
   "cell_type": "code",
   "execution_count": 8,
   "metadata": {
    "ExecuteTime": {
     "end_time": "2020-04-01T18:28:43.712653Z",
     "start_time": "2020-04-01T18:28:43.684492Z"
    }
   },
   "outputs": [
    {
     "data": {
      "text/plain": [
       "22       100000.000\n",
       "32       172144.440\n",
       "34       133000.000\n",
       "61        15000.000\n",
       "72        43049.736\n",
       "            ...    \n",
       "25875     71749.560\n",
       "25966     12000.000\n",
       "26012    123553.200\n",
       "26038    170000.000\n",
       "26203    200000.000\n",
       "Name: AdjustedCompensation, Length: 967, dtype: float64"
      ]
     },
     "execution_count": 8,
     "metadata": {},
     "output_type": "execute_result"
    }
   ],
   "source": [
    "doc_df = df[df.FormalEducation == \"Doctoral degree\"]['AdjustedCompensation']\n",
    "clean_doc_df = doc_df.dropna()\n",
    "clean_doc_df"
   ]
  },
  {
   "cell_type": "code",
   "execution_count": 9,
   "metadata": {
    "ExecuteTime": {
     "end_time": "2020-04-01T18:28:43.727397Z",
     "start_time": "2020-04-01T18:28:43.715840Z"
    }
   },
   "outputs": [
    {
     "data": {
      "text/plain": [
       "count    9.670000e+02\n",
       "mean     2.956618e+07\n",
       "std      9.099981e+08\n",
       "min     -7.351631e+01\n",
       "25%      4.000000e+04\n",
       "50%      7.413192e+04\n",
       "75%      1.200000e+05\n",
       "max      2.829740e+10\n",
       "Name: AdjustedCompensation, dtype: float64"
      ]
     },
     "execution_count": 9,
     "metadata": {},
     "output_type": "execute_result"
    }
   ],
   "source": [
    "clean_doc_df.describe()"
   ]
  },
  {
   "cell_type": "code",
   "execution_count": 10,
   "metadata": {
    "ExecuteTime": {
     "end_time": "2020-04-01T18:28:43.741924Z",
     "start_time": "2020-04-01T18:28:43.729580Z"
    }
   },
   "outputs": [
    {
     "data": {
      "text/plain": [
       "22       100000.000\n",
       "32       172144.440\n",
       "34       133000.000\n",
       "61        15000.000\n",
       "72        43049.736\n",
       "            ...    \n",
       "25875     71749.560\n",
       "25966     12000.000\n",
       "26012    123553.200\n",
       "26038    170000.000\n",
       "26203    200000.000\n",
       "Name: AdjustedCompensation, Length: 966, dtype: float64"
      ]
     },
     "execution_count": 10,
     "metadata": {},
     "output_type": "execute_result"
    }
   ],
   "source": [
    "mask = clean_doc_df[clean_doc_df < 0].index\n",
    "clean_doc_df.drop(mask, inplace=True)\n",
    "clean_doc_df"
   ]
  },
  {
   "cell_type": "code",
   "execution_count": 11,
   "metadata": {
    "ExecuteTime": {
     "end_time": "2020-04-01T18:28:43.754763Z",
     "start_time": "2020-04-01T18:28:43.744168Z"
    }
   },
   "outputs": [
    {
     "data": {
      "text/plain": [
       "count    9.660000e+02\n",
       "mean     2.959678e+07\n",
       "std      9.104690e+08\n",
       "min      0.000000e+00\n",
       "25%      4.000000e+04\n",
       "50%      7.413657e+04\n",
       "75%      1.200000e+05\n",
       "max      2.829740e+10\n",
       "Name: AdjustedCompensation, dtype: float64"
      ]
     },
     "execution_count": 11,
     "metadata": {},
     "output_type": "execute_result"
    }
   ],
   "source": [
    "clean_doc_df.describe()"
   ]
  },
  {
   "cell_type": "code",
   "execution_count": 12,
   "metadata": {
    "ExecuteTime": {
     "end_time": "2020-04-01T18:28:43.767983Z",
     "start_time": "2020-04-01T18:28:43.757064Z"
    },
    "scrolled": true
   },
   "outputs": [
    {
     "data": {
      "text/plain": [
       "count    1.107000e+03\n",
       "mean     6.488710e+04\n",
       "std      3.069359e+05\n",
       "min      0.000000e+00\n",
       "25%      1.126620e+04\n",
       "50%      3.839940e+04\n",
       "75%      8.023100e+04\n",
       "max      9.999999e+06\n",
       "Name: AdjustedCompensation, dtype: float64"
      ]
     },
     "execution_count": 12,
     "metadata": {},
     "output_type": "execute_result"
    }
   ],
   "source": [
    "clean_bachelors_df.describe()"
   ]
  },
  {
   "cell_type": "code",
   "execution_count": 13,
   "metadata": {
    "ExecuteTime": {
     "end_time": "2020-04-01T18:28:44.025556Z",
     "start_time": "2020-04-01T18:28:43.770232Z"
    }
   },
   "outputs": [
    {
     "data": {
      "text/plain": [
       "<Figure size 640x480 with 1 Axes>"
      ]
     },
     "metadata": {},
     "output_type": "display_data"
    }
   ],
   "source": [
    "import matplotlib.pyplot as plt\n",
    "plt.hist(clean_bachelors_df[clean_bachelors_df < 9.999999e+05])\n",
    "plt.show()"
   ]
  },
  {
   "cell_type": "code",
   "execution_count": 14,
   "metadata": {
    "ExecuteTime": {
     "end_time": "2020-04-01T18:28:44.033261Z",
     "start_time": "2020-04-01T18:28:44.027837Z"
    }
   },
   "outputs": [
    {
     "name": "stdout",
     "output_type": "stream",
     "text": [
      "103447.20000000003\n"
     ]
    }
   ],
   "source": [
    "# drop vals outside +- 1.5*IQR\n",
    "bach_iqr = stats.iqr(clean_bachelors_df)\n",
    "print(1.5*bach_iqr)"
   ]
  },
  {
   "cell_type": "code",
   "execution_count": 15,
   "metadata": {
    "ExecuteTime": {
     "end_time": "2020-04-01T18:28:44.052635Z",
     "start_time": "2020-04-01T18:28:44.035531Z"
    }
   },
   "outputs": [
    {
     "data": {
      "text/plain": [
       "count      1067.000000\n",
       "mean      47539.889016\n",
       "std       42610.671070\n",
       "min           0.000000\n",
       "25%       10521.460000\n",
       "50%       35667.900000\n",
       "75%       76122.039000\n",
       "max      180000.000000\n",
       "Name: AdjustedCompensation, dtype: float64"
      ]
     },
     "execution_count": 15,
     "metadata": {},
     "output_type": "execute_result"
    }
   ],
   "source": [
    "mask = clean_bachelors_df[clean_bachelors_df > (clean_bachelors_df.quantile(0.75) + 1.5*bach_iqr)].index\n",
    "clean_bachelors_df.drop(mask, inplace=True)\n",
    "clean_bachelors_df.describe()"
   ]
  },
  {
   "cell_type": "code",
   "execution_count": 16,
   "metadata": {
    "ExecuteTime": {
     "end_time": "2020-04-01T18:28:44.073275Z",
     "start_time": "2020-04-01T18:28:44.056513Z"
    }
   },
   "outputs": [
    {
     "data": {
      "text/plain": [
       "count      1067.000000\n",
       "mean      47539.889016\n",
       "std       42610.671070\n",
       "min           0.000000\n",
       "25%       10521.460000\n",
       "50%       35667.900000\n",
       "75%       76122.039000\n",
       "max      180000.000000\n",
       "Name: AdjustedCompensation, dtype: float64"
      ]
     },
     "execution_count": 16,
     "metadata": {},
     "output_type": "execute_result"
    }
   ],
   "source": [
    "mask = clean_bachelors_df[clean_bachelors_df < (clean_bachelors_df.quantile(0.25) - 1.5*bach_iqr)].index\n",
    "clean_bachelors_df.drop(mask, inplace=True)\n",
    "clean_bachelors_df.describe()"
   ]
  },
  {
   "cell_type": "code",
   "execution_count": 17,
   "metadata": {
    "ExecuteTime": {
     "end_time": "2020-04-01T18:28:44.102890Z",
     "start_time": "2020-04-01T18:28:44.075676Z"
    }
   },
   "outputs": [
    {
     "data": {
      "text/plain": [
       "count       936.000000\n",
       "mean      80106.299240\n",
       "std       54420.477958\n",
       "min           0.000000\n",
       "25%       38521.863000\n",
       "50%       71749.560000\n",
       "75%      114829.015000\n",
       "max      240000.000000\n",
       "Name: AdjustedCompensation, dtype: float64"
      ]
     },
     "execution_count": 17,
     "metadata": {},
     "output_type": "execute_result"
    }
   ],
   "source": [
    "doc_iqr = stats.iqr(clean_doc_df)\n",
    "mask = clean_doc_df[clean_doc_df > (clean_doc_df.quantile(0.75) + 1.5*doc_iqr)].index\n",
    "clean_doc_df.drop(mask, inplace=True)\n",
    "mask = clean_doc_df[clean_doc_df < (clean_doc_df.quantile(0.25) - 1.5*doc_iqr)].index\n",
    "clean_doc_df.drop(mask, inplace=True)\n",
    "clean_doc_df.describe()"
   ]
  },
  {
   "cell_type": "code",
   "execution_count": 18,
   "metadata": {
    "ExecuteTime": {
     "end_time": "2020-04-01T18:28:44.114144Z",
     "start_time": "2020-04-01T18:28:44.105473Z"
    }
   },
   "outputs": [
    {
     "name": "stdout",
     "output_type": "stream",
     "text": [
      "Given that our calculated p-value is 0.0, which is less than our alpha of 0.05\n",
      "We can reject the Null Hypothesis say that there is evidence that education has a positive impact\n",
      "on salary\n"
     ]
    }
   ],
   "source": [
    "p = p_value_welch_ttest(clean_bachelors_df, clean_doc_df, two_sided=False)\n",
    "print(f'Given that our calculated p-value is {round(p,3)}, which is less than our alpha of 0.05')\n",
    "print(f'We can reject the Null Hypothesis say that there is evidence that education has a positive impact')\n",
    "print('on salary')"
   ]
  },
  {
   "cell_type": "code",
   "execution_count": 19,
   "metadata": {
    "ExecuteTime": {
     "end_time": "2020-04-01T18:28:44.120754Z",
     "start_time": "2020-04-01T18:28:44.116784Z"
    }
   },
   "outputs": [],
   "source": [
    "#Your code here"
   ]
  },
  {
   "cell_type": "markdown",
   "metadata": {},
   "source": [
    "## Wages and Education III\n",
    "\n",
    "Remember the multiple comparisons problem; rather than continuing on like this, perform an ANOVA test between the various 'FormalEducation' categories and their relation to 'AdjustedCompensation'."
   ]
  },
  {
   "cell_type": "code",
   "execution_count": 20,
   "metadata": {
    "ExecuteTime": {
     "end_time": "2020-04-01T18:28:44.146131Z",
     "start_time": "2020-04-01T18:28:44.123190Z"
    },
    "scrolled": true
   },
   "outputs": [
    {
     "data": {
      "text/plain": [
       "count      1927.000000\n",
       "mean      58537.417366\n",
       "std       45085.441382\n",
       "min           0.000000\n",
       "25%       20882.400000\n",
       "50%       50224.692000\n",
       "75%       87418.060000\n",
       "max      192810.000000\n",
       "Name: AdjustedCompensation, dtype: float64"
      ]
     },
     "execution_count": 20,
     "metadata": {},
     "output_type": "execute_result"
    }
   ],
   "source": [
    "# clean the master's data\n",
    "mast_iqr = stats.iqr(clean_masters_df)\n",
    "mask = clean_masters_df[clean_masters_df > (clean_masters_df.quantile(0.75) + 1.5*mast_iqr)].index\n",
    "clean_masters_df.drop(mask, inplace=True)\n",
    "mask = clean_masters_df[clean_masters_df < (clean_masters_df.quantile(0.25) - 1.5*mast_iqr)].index\n",
    "clean_masters_df.drop(mask, inplace=True)\n",
    "clean_masters_df.describe()\n"
   ]
  },
  {
   "cell_type": "code",
   "execution_count": 21,
   "metadata": {
    "ExecuteTime": {
     "end_time": "2020-04-01T18:28:44.448649Z",
     "start_time": "2020-04-01T18:28:44.148489Z"
    }
   },
   "outputs": [],
   "source": [
    "import statsmodels.api as sm\n",
    "from statsmodels.formula.api import ols"
   ]
  },
  {
   "cell_type": "code",
   "execution_count": 22,
   "metadata": {
    "ExecuteTime": {
     "end_time": "2020-04-01T18:28:44.459822Z",
     "start_time": "2020-04-01T18:28:44.451562Z"
    }
   },
   "outputs": [
    {
     "data": {
      "text/plain": [
       "pandas.core.series.Series"
      ]
     },
     "execution_count": 22,
     "metadata": {},
     "output_type": "execute_result"
    }
   ],
   "source": [
    "type(clean_bachelors_df)"
   ]
  },
  {
   "cell_type": "code",
   "execution_count": 23,
   "metadata": {
    "ExecuteTime": {
     "end_time": "2020-04-01T18:28:44.478481Z",
     "start_time": "2020-04-01T18:28:44.467503Z"
    }
   },
   "outputs": [],
   "source": [
    "# convert the series to df's\n",
    "clean_bachelors_df = clean_bachelors_df.to_frame()\n",
    "clean_masters_df = clean_masters_df.to_frame()\n",
    "clean_doc_df = clean_doc_df.to_frame()\n",
    "\n",
    "# add the degree back into the 3 dataframes\n",
    "clean_bachelors_df['degree'] = 'bachelors'\n",
    "clean_masters_df['degree'] = 'masters'\n",
    "clean_doc_df['degree'] = 'doctorate'"
   ]
  },
  {
   "cell_type": "code",
   "execution_count": 24,
   "metadata": {
    "ExecuteTime": {
     "end_time": "2020-04-01T18:28:44.502136Z",
     "start_time": "2020-04-01T18:28:44.483237Z"
    },
    "scrolled": true
   },
   "outputs": [
    {
     "data": {
      "text/html": [
       "<div>\n",
       "<style scoped>\n",
       "    .dataframe tbody tr th:only-of-type {\n",
       "        vertical-align: middle;\n",
       "    }\n",
       "\n",
       "    .dataframe tbody tr th {\n",
       "        vertical-align: top;\n",
       "    }\n",
       "\n",
       "    .dataframe thead th {\n",
       "        text-align: right;\n",
       "    }\n",
       "</style>\n",
       "<table border=\"1\" class=\"dataframe\">\n",
       "  <thead>\n",
       "    <tr style=\"text-align: right;\">\n",
       "      <th></th>\n",
       "      <th>AdjustedCompensation</th>\n",
       "      <th>degree</th>\n",
       "    </tr>\n",
       "  </thead>\n",
       "  <tbody>\n",
       "    <tr>\n",
       "      <td>8</td>\n",
       "      <td>64184.800</td>\n",
       "      <td>bachelors</td>\n",
       "    </tr>\n",
       "    <tr>\n",
       "      <td>9</td>\n",
       "      <td>20882.400</td>\n",
       "      <td>bachelors</td>\n",
       "    </tr>\n",
       "    <tr>\n",
       "      <td>11</td>\n",
       "      <td>1483.900</td>\n",
       "      <td>bachelors</td>\n",
       "    </tr>\n",
       "    <tr>\n",
       "      <td>21</td>\n",
       "      <td>20000.000</td>\n",
       "      <td>bachelors</td>\n",
       "    </tr>\n",
       "    <tr>\n",
       "      <td>25</td>\n",
       "      <td>10858.848</td>\n",
       "      <td>bachelors</td>\n",
       "    </tr>\n",
       "    <tr>\n",
       "      <td>...</td>\n",
       "      <td>...</td>\n",
       "      <td>...</td>\n",
       "    </tr>\n",
       "    <tr>\n",
       "      <td>25875</td>\n",
       "      <td>71749.560</td>\n",
       "      <td>doctorate</td>\n",
       "    </tr>\n",
       "    <tr>\n",
       "      <td>25966</td>\n",
       "      <td>12000.000</td>\n",
       "      <td>doctorate</td>\n",
       "    </tr>\n",
       "    <tr>\n",
       "      <td>26012</td>\n",
       "      <td>123553.200</td>\n",
       "      <td>doctorate</td>\n",
       "    </tr>\n",
       "    <tr>\n",
       "      <td>26038</td>\n",
       "      <td>170000.000</td>\n",
       "      <td>doctorate</td>\n",
       "    </tr>\n",
       "    <tr>\n",
       "      <td>26203</td>\n",
       "      <td>200000.000</td>\n",
       "      <td>doctorate</td>\n",
       "    </tr>\n",
       "  </tbody>\n",
       "</table>\n",
       "<p>3930 rows × 2 columns</p>\n",
       "</div>"
      ],
      "text/plain": [
       "       AdjustedCompensation     degree\n",
       "8                 64184.800  bachelors\n",
       "9                 20882.400  bachelors\n",
       "11                 1483.900  bachelors\n",
       "21                20000.000  bachelors\n",
       "25                10858.848  bachelors\n",
       "...                     ...        ...\n",
       "25875             71749.560  doctorate\n",
       "25966             12000.000  doctorate\n",
       "26012            123553.200  doctorate\n",
       "26038            170000.000  doctorate\n",
       "26203            200000.000  doctorate\n",
       "\n",
       "[3930 rows x 2 columns]"
      ]
     },
     "execution_count": 24,
     "metadata": {},
     "output_type": "execute_result"
    }
   ],
   "source": [
    "# concatenate all three df's\n",
    "salary_degree_df = pd.concat([clean_bachelors_df, clean_masters_df, clean_doc_df])\n",
    "salary_degree_df"
   ]
  },
  {
   "cell_type": "code",
   "execution_count": 25,
   "metadata": {
    "ExecuteTime": {
     "end_time": "2020-04-01T18:30:32.488922Z",
     "start_time": "2020-04-01T18:30:32.332110Z"
    }
   },
   "outputs": [
    {
     "data": {
      "text/html": [
       "<div>\n",
       "<style scoped>\n",
       "    .dataframe tbody tr th:only-of-type {\n",
       "        vertical-align: middle;\n",
       "    }\n",
       "\n",
       "    .dataframe tbody tr th {\n",
       "        vertical-align: top;\n",
       "    }\n",
       "\n",
       "    .dataframe thead th {\n",
       "        text-align: right;\n",
       "    }\n",
       "</style>\n",
       "<table border=\"1\" class=\"dataframe\">\n",
       "  <thead>\n",
       "    <tr style=\"text-align: right;\">\n",
       "      <th></th>\n",
       "      <th>df</th>\n",
       "      <th>sum_sq</th>\n",
       "      <th>mean_sq</th>\n",
       "      <th>F</th>\n",
       "      <th>PR(&gt;F)</th>\n",
       "    </tr>\n",
       "  </thead>\n",
       "  <tbody>\n",
       "    <tr>\n",
       "      <td>C(degree)</td>\n",
       "      <td>2.0</td>\n",
       "      <td>5.463055e+11</td>\n",
       "      <td>2.731528e+11</td>\n",
       "      <td>124.446088</td>\n",
       "      <td>3.957086e-53</td>\n",
       "    </tr>\n",
       "    <tr>\n",
       "      <td>Residual</td>\n",
       "      <td>3927.0</td>\n",
       "      <td>8.619563e+12</td>\n",
       "      <td>2.194949e+09</td>\n",
       "      <td>NaN</td>\n",
       "      <td>NaN</td>\n",
       "    </tr>\n",
       "  </tbody>\n",
       "</table>\n",
       "</div>"
      ],
      "text/plain": [
       "               df        sum_sq       mean_sq           F        PR(>F)\n",
       "C(degree)     2.0  5.463055e+11  2.731528e+11  124.446088  3.957086e-53\n",
       "Residual   3927.0  8.619563e+12  2.194949e+09         NaN           NaN"
      ]
     },
     "execution_count": 25,
     "metadata": {},
     "output_type": "execute_result"
    }
   ],
   "source": [
    "formula = 'AdjustedCompensation ~ C(degree)'\n",
    "lm = ols(formula, salary_degree_df).fit()\n",
    "table = sm.stats.anova_lm(lm, type=2)\n",
    "table"
   ]
  },
  {
   "cell_type": "code",
   "execution_count": 26,
   "metadata": {
    "ExecuteTime": {
     "end_time": "2020-04-01T18:32:27.412470Z",
     "start_time": "2020-04-01T18:32:27.409647Z"
    }
   },
   "outputs": [],
   "source": [
    "# the Anova test shows that a Null Hypothesis of Education not having an a positive effect on salary should be rejected\n",
    "# and the data should be further investigated"
   ]
  },
  {
   "cell_type": "markdown",
   "metadata": {},
   "source": [
    "## Additional Resources\n",
    "\n",
    "Here's the original source where the data was taken from:  \n",
    "    [Kaggle Machine Learning & Data Science Survey 2017](https://www.kaggle.com/kaggle/kaggle-survey-2017)"
   ]
  },
  {
   "cell_type": "markdown",
   "metadata": {},
   "source": [
    "## Summary\n",
    "\n",
    "In this lab, you practiced conducting actual hypothesis tests on actual data. From this, you saw how dependent results can be on the initial problem formulation, including preprocessing!"
   ]
  }
 ],
 "metadata": {
  "kernelspec": {
   "display_name": "Python 3",
   "language": "python",
   "name": "python3"
  },
  "language_info": {
   "codemirror_mode": {
    "name": "ipython",
    "version": 3
   },
   "file_extension": ".py",
   "mimetype": "text/x-python",
   "name": "python",
   "nbconvert_exporter": "python",
   "pygments_lexer": "ipython3",
   "version": "3.6.9"
  },
  "toc": {
   "base_numbering": 1,
   "nav_menu": {},
   "number_sections": true,
   "sideBar": true,
   "skip_h1_title": false,
   "title_cell": "Table of Contents",
   "title_sidebar": "Contents",
   "toc_cell": false,
   "toc_position": {},
   "toc_section_display": true,
   "toc_window_display": false
  },
  "varInspector": {
   "cols": {
    "lenName": 16,
    "lenType": 16,
    "lenVar": 40
   },
   "kernels_config": {
    "python": {
     "delete_cmd_postfix": "",
     "delete_cmd_prefix": "del ",
     "library": "var_list.py",
     "varRefreshCmd": "print(var_dic_list())"
    },
    "r": {
     "delete_cmd_postfix": ") ",
     "delete_cmd_prefix": "rm(",
     "library": "var_list.r",
     "varRefreshCmd": "cat(var_dic_list()) "
    }
   },
   "types_to_exclude": [
    "module",
    "function",
    "builtin_function_or_method",
    "instance",
    "_Feature"
   ],
   "window_display": false
  }
 },
 "nbformat": 4,
 "nbformat_minor": 2
}
